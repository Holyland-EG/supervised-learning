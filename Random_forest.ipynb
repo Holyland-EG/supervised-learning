{
 "cells": [
  {
   "cell_type": "code",
   "execution_count": 1,
   "metadata": {},
   "outputs": [],
   "source": [
    "import pandas as pd\n",
    "import numpy as np\n",
    "from sklearn.datasets import load_digits\n",
    "from sklearn.model_selection import cross_val_score\n",
    "from sklearn.tree import DecisionTreeClassifier\n",
    "from sklearn.ensemble import BaggingClassifier, RandomForestClassifier "
   ]
  },
  {
   "cell_type": "code",
   "execution_count": 2,
   "metadata": {},
   "outputs": [],
   "source": [
    "data = load_digits()\n",
    "\n",
    "target = data['target']\n",
    "data = data['data']"
   ]
  },
  {
   "cell_type": "code",
   "execution_count": 3,
   "metadata": {},
   "outputs": [
    {
     "data": {
      "text/plain": [
       "((1797, 64), (1797,))"
      ]
     },
     "execution_count": 3,
     "metadata": {},
     "output_type": "execute_result"
    }
   ],
   "source": [
    "data.shape, target.shape"
   ]
  },
  {
   "cell_type": "code",
   "execution_count": 4,
   "metadata": {},
   "outputs": [],
   "source": [
    "cv = 10\n",
    "\n",
    "def write_answer(val, num):\n",
    "    with open(\"forest_{}.txt\".format(num), \"w\") as f:\n",
    "        f.write(str(val))"
   ]
  },
  {
   "cell_type": "code",
   "execution_count": 5,
   "metadata": {},
   "outputs": [
    {
     "data": {
      "text/plain": [
       "0.827089092317529"
      ]
     },
     "execution_count": 5,
     "metadata": {},
     "output_type": "execute_result"
    }
   ],
   "source": [
    "model_tree = DecisionTreeClassifier()\n",
    "scorer = cross_val_score(model_tree, X=data, y=target, cv=cv).mean()\n",
    "scorer"
   ]
  },
  {
   "cell_type": "code",
   "execution_count": 8,
   "metadata": {},
   "outputs": [],
   "source": [
    "write_answer(scorer, 1)"
   ]
  },
  {
   "cell_type": "markdown",
   "metadata": {},
   "source": []
  },
  {
   "cell_type": "code",
   "execution_count": 7,
   "metadata": {},
   "outputs": [
    {
     "data": {
      "text/plain": [
       "0.9243136920825039"
      ]
     },
     "execution_count": 7,
     "metadata": {},
     "output_type": "execute_result"
    }
   ],
   "source": [
    "num_trees = 100\n",
    "\n",
    "model_tree = DecisionTreeClassifier()\n",
    "bagging = BaggingClassifier(model_tree, n_estimators=num_trees, random_state=0)\n",
    "scorer_2 = cross_val_score(bagging, X=data, y=target, cv=cv).mean()\n",
    "scorer_2 "
   ]
  },
  {
   "cell_type": "code",
   "execution_count": 9,
   "metadata": {},
   "outputs": [],
   "source": [
    "write_answer(scorer_2, 2)"
   ]
  },
  {
   "cell_type": "markdown",
   "metadata": {},
   "source": []
  },
  {
   "cell_type": "code",
   "execution_count": 10,
   "metadata": {},
   "outputs": [
    {
     "data": {
      "text/plain": [
       "0.9365281294303756"
      ]
     },
     "execution_count": 10,
     "metadata": {},
     "output_type": "execute_result"
    }
   ],
   "source": [
    "model_tree = DecisionTreeClassifier()\n",
    "bagging = BaggingClassifier(model_tree, n_estimators=num_trees, random_state=0, max_features=int(np.sqrt(data.shape[1])))\n",
    "scorer_3 = cross_val_score(bagging, X=data, y=target, cv=cv).mean()\n",
    "scorer_3"
   ]
  },
  {
   "cell_type": "code",
   "execution_count": 11,
   "metadata": {},
   "outputs": [],
   "source": [
    "write_answer(scorer_3, 3)"
   ]
  },
  {
   "cell_type": "markdown",
   "metadata": {},
   "source": []
  },
  {
   "cell_type": "code",
   "execution_count": 12,
   "metadata": {},
   "outputs": [
    {
     "data": {
      "text/plain": [
       "0.9544773623165452"
      ]
     },
     "execution_count": 12,
     "metadata": {},
     "output_type": "execute_result"
    }
   ],
   "source": [
    "model_tree = DecisionTreeClassifier(max_features=int(np.sqrt(data.shape[1])))\n",
    "bagging = BaggingClassifier(model_tree, n_estimators=num_trees, random_state=0)\n",
    "scorer_4 = cross_val_score(bagging, X=data, y=target, cv=cv).mean()\n",
    "scorer_4"
   ]
  },
  {
   "cell_type": "code",
   "execution_count": 13,
   "metadata": {},
   "outputs": [],
   "source": [
    "write_answer(scorer_4, 4)"
   ]
  },
  {
   "cell_type": "markdown",
   "metadata": {},
   "source": []
  },
  {
   "cell_type": "code",
   "execution_count": 15,
   "metadata": {},
   "outputs": [],
   "source": [
    "import warnings\n",
    "warnings.filterwarnings('ignore')"
   ]
  },
  {
   "cell_type": "code",
   "execution_count": 16,
   "metadata": {},
   "outputs": [
    {
     "data": {
      "text/plain": [
       "0.9482849223801668"
      ]
     },
     "execution_count": 16,
     "metadata": {},
     "output_type": "execute_result"
    }
   ],
   "source": [
    "rand_tree = RandomForestClassifier(max_features=int(np.sqrt(data.shape[1])))\n",
    "bagg = BaggingClassifier(rand_tree, n_estimators=num_trees, random_state=0)\n",
    "scorer_rand = cross_val_score(bagg, X=data, y=target, cv=cv).mean()\n",
    "scorer_rand"
   ]
  },
  {
   "cell_type": "code",
   "execution_count": null,
   "metadata": {},
   "outputs": [],
   "source": []
  },
  {
   "cell_type": "code",
   "execution_count": null,
   "metadata": {},
   "outputs": [],
   "source": []
  },
  {
   "cell_type": "code",
   "execution_count": null,
   "metadata": {},
   "outputs": [],
   "source": []
  },
  {
   "cell_type": "code",
   "execution_count": 26,
   "metadata": {},
   "outputs": [],
   "source": [
    "import matplotlib.pyplot as plt\n",
    "%matplotlib inline\n",
    "\n",
    "from IPython.display import clear_output"
   ]
  },
  {
   "cell_type": "code",
   "execution_count": 18,
   "metadata": {},
   "outputs": [],
   "source": [
    "num_trees = [20,60,100,140,180, 'red']\n",
    "max_features = [int(data.shape[1]/6), int(data.shape[1]/5), int(data.shape[1]/4), int(data.shape[1]/3), int(data.shape[1]/2), 'blue']\n",
    "max_depth = [5, 10, 25, 45, 75, 'green']"
   ]
  },
  {
   "cell_type": "code",
   "execution_count": 27,
   "metadata": {},
   "outputs": [
    {
     "data": {
      "image/png": "[encoded data removed]",
      "text/plain": [
       "<Figure size 432x288 with 1 Axes>"
      ]
     },
     "metadata": {
      "needs_background": "light"
     },
     "output_type": "display_data"
    }
   ],
   "source": [
    "score = []\n",
    "for num in num_trees[:5]:\n",
    "    model_tree = DecisionTreeClassifier()\n",
    "    bagging = BaggingClassifier(model_tree, n_estimators=num, random_state=0)\n",
    "    score.append(cross_val_score(bagging, X=data, y=target, cv=cv).mean())\n",
    "    clear_output(True)\n",
    "    plt.plot(score, color=num_trees[5])\n",
    "    plt.show()"
   ]
  },
  {
   "cell_type": "code",
   "execution_count": 28,
   "metadata": {},
   "outputs": [
    {
     "data": {
      "image/png": "[encoded data removed]",
      "text/plain": [
       "<Figure size 432x288 with 1 Axes>"
      ]
     },
     "metadata": {
      "needs_background": "light"
     },
     "output_type": "display_data"
    }
   ],
   "source": [
    "score = []\n",
    "for features in max_features[:5]:\n",
    "    model_tree = DecisionTreeClassifier(max_features=features)\n",
    "    bagging = BaggingClassifier(model_tree, n_estimators=60, random_state=0)\n",
    "    score.append(cross_val_score(bagging, X=data, y=target, cv=cv).mean())\n",
    "    clear_output(True)\n",
    "    plt.plot(score, color=max_features[5])\n",
    "    plt.show()"
   ]
  },
  {
   "cell_type": "code",
   "execution_count": 31,
   "metadata": {},
   "outputs": [
    {
     "data": {
      "image/png": "[encoded data removed]",
      "text/plain": [
       "<Figure size 432x288 with 1 Axes>"
      ]
     },
     "metadata": {
      "needs_background": "light"
     },
     "output_type": "display_data"
    }
   ],
   "source": [
    "score = []\n",
    "for depth in max_depth[:5]:\n",
    "    model_tree = DecisionTreeClassifier(max_features=max_features[0], max_depth=depth)\n",
    "    bagging = BaggingClassifier(model_tree, n_estimators=60, random_state=0)\n",
    "    score.append(cross_val_score(bagging, X=data, y=target, cv=cv).mean())\n",
    "    clear_output(True)\n",
    "    plt.plot(score, color=max_depth[5])\n",
    "    plt.show()"
   ]
  },
  {
   "cell_type": "code",
   "execution_count": 33,
   "metadata": {},
   "outputs": [],
   "source": [
    "with open(\"forest_5.txt\", \"w\") as f:\n",
    "    f.write('2 3 4 7')"
   ]
  },
  {
   "cell_type": "code",
   "execution_count": null,
   "metadata": {},
   "outputs": [],
   "source": []
  }
 ],
 "metadata": {
  "kernelspec": {
   "display_name": "Python 3",
   "language": "python",
   "name": "python3"
  },
  "language_info": {
   "codemirror_mode": {
    "name": "ipython",
    "version": 3
   },
   "file_extension": ".py",
   "mimetype": "text/x-python",
   "name": "python",
   "nbconvert_exporter": "python",
   "pygments_lexer": "ipython3",
   "version": "3.7.4"
  }
 },
 "nbformat": 4,
 "nbformat_minor": 4
}
